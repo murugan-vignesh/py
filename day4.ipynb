#QUESTION1:
f = open("test.txt","a")
f.write("iam typing again")
f.close()

f=open("test.txt", "r")
print(f.read())
f.close()


#QUESTION2
num = int(input("enter the number"))
def factorial(n):
    if n == 0:
        return 1

    return n * factorial(n - 1)

print("Factorial of", num, "is", factorial(num))
