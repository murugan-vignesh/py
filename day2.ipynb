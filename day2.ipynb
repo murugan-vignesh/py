#QUESTION1
string1 = "welcome to letsupgrade python programming."
a1 = string1.split()
print(a1)

string2 = "Hello, welcome to my world."
a2 = string2.index("welcome")
print(a2)

string3 = "I love python, python are my favorite coding language"
a3 = string3.count("python")
print(a3)

string4 = "Lets learn Python"
a4 = string4.upper()
print(a4)

string5 = "Lets learn Python"
a5 = string5.lower()
print(a5)

#QUESTION2
languages = ['telugu', 'hindi', 'english']
languages.append("tamil")
print(languages)

languages = ['telugu', 'hindi', 'english']
languages.remove("telugu")
print(languages)

languages = ['telugu', 'hindi', 'english']
languages.pop(2)
print(languages)

languages = ['telugu', 'hindi', 'english']
languages.reverse()
print(languages)

languages = ['telugu', 'hindi', 'english']
languages.insert(1,"tamil")
print(languages)


#QUESTION3
car = {
  "brand": "Ford",
  "model": "Mustang",
  "year": 1964
}
car1 = car.get("model")
print(car1)

car2 = car.setdefault("model", "Bronco")
print(car2)

car3 = car.items()
print(car3)

car4 = car.keys()
print(car4)

car5 = car.clear()
print(car5)

