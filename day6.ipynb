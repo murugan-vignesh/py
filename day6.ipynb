subject = "mail from matkind"
    message = emails.html(html=html_text,
                          subject=subject,
                          mail_from=('markind Store', 'nick@store.com'))
    mail_via_python = message.send(to=email,
                               smtp={'host': 'smtp.gmail.com',
                                     'timeout': 5,
                                    'port':587,
                                    'user':'gopalakrishnajo@gmail.com',
                                    'password':'jaffa@4534',
                                    'tls':True})
    return mail_via_python.status_code
sendMail("followme@gmil.com")